{
  "nbformat": 4,
  "nbformat_minor": 0,
  "metadata": {
    "colab": {
      "provenance": [],
      "authorship_tag": "ABX9TyMQjFGZsfBSOdQ8SWNx5naJ",
      "include_colab_link": true
    },
    "kernelspec": {
      "name": "python3",
      "display_name": "Python 3"
    },
    "language_info": {
      "name": "python"
    }
  },
  "cells": [
    {
      "cell_type": "markdown",
      "metadata": {
        "id": "view-in-github",
        "colab_type": "text"
      },
      "source": [
        "<a href=\"https://colab.research.google.com/github/HayLab/Pigss/blob/main/Pigss_demo.ipynb\" target=\"_parent\"><img src=\"https://colab.research.google.com/assets/colab-badge.svg\" alt=\"Open In Colab\"/></a>"
      ]
    },
    {
      "cell_type": "markdown",
      "source": [
        "#Using Piggs: A tutorial !\n",
        "---\n",
        "In this tutorial you will learn how to use the Piggs Simulation, what files get generated, and how to analyze them. First, we'll clone the project and move into the directory"
      ],
      "metadata": {
        "id": "p0LsUYhXJfao"
      }
    },
    {
      "cell_type": "code",
      "source": [
        "!git clone https://github.com/HayLab/Pigss\n",
        "%cd Pigss"
      ],
      "metadata": {
        "colab": {
          "base_uri": "https://localhost:8080/"
        },
        "id": "8dzl0q9W6auW",
        "outputId": "42127c07-5c71-4f8b-ded5-842098fffb7a"
      },
      "execution_count": 2,
      "outputs": [
        {
          "output_type": "stream",
          "name": "stdout",
          "text": [
            "Cloning into 'Pigss'...\n",
            "remote: Enumerating objects: 219, done.\u001b[K\n",
            "remote: Counting objects: 100% (219/219), done.\u001b[K\n",
            "remote: Compressing objects: 100% (67/67), done.\u001b[K\n",
            "remote: Total 219 (delta 152), reused 213 (delta 149), pack-reused 0\u001b[K\n",
            "Receiving objects: 100% (219/219), 18.59 MiB | 21.13 MiB/s, done.\n",
            "Resolving deltas: 100% (152/152), done.\n",
            "Updating files: 100% (69/69), done.\n",
            "/content/Pigss\n"
          ]
        }
      ]
    },
    {
      "cell_type": "markdown",
      "source": [
        "We also have to create a folder for our data to go into: we call this folder \"arabidopsis_data\""
      ],
      "metadata": {
        "id": "EdRuBdjsQ7bf"
      }
    },
    {
      "cell_type": "code",
      "source": [
        "!mkdir arabidopsis_data\n",
        "!ls"
      ],
      "metadata": {
        "colab": {
          "base_uri": "https://localhost:8080/"
        },
        "id": "1JYmTWqiRAvW",
        "outputId": "23376974-dbb7-46af-b192-1059a3267403"
      },
      "execution_count": 3,
      "outputs": [
        {
          "output_type": "stream",
          "name": "stdout",
          "text": [
            "allele_mapping.png\tPlantClasses.py\t\t\t     Simulation_suppressors_fast_small.py\n",
            "arabidopsis_data\tREADME.md\t\t\t     SuppressorMutationClasses_fast_copy.py\n",
            "data_visualization.Rmd\tSimulation_fast_small.py\t     SuppressorMutationClasses_fast.py\n",
            "final_data\t\tSimulation.py\t\t\t     SuppressorMutationClasses.py\n",
            "flowchart_3.png\t\tSimulation_suppressors_fast_copy.py\n",
            "Pigss_demo.ipynb\tSimulation_suppressors_fast.py\n"
          ]
        }
      ]
    },
    {
      "cell_type": "markdown",
      "source": [
        "## How to use the pre-made functions\n",
        "\n",
        "There are many functions we can use from the commandline. Let's check what functions are available"
      ],
      "metadata": {
        "id": "gquAMrFRmXpU"
      }
    },
    {
      "cell_type": "code",
      "source": [
        "!python Simulation.py get_func_list"
      ],
      "metadata": {
        "colab": {
          "base_uri": "https://localhost:8080/"
        },
        "id": "VlNUjXX47iuY",
        "outputId": "b5fea691-2c4e-4614-b93f-03f7255b9a63"
      },
      "execution_count": null,
      "outputs": [
        {
          "output_type": "stream",
          "name": "stdout",
          "text": [
            "executing function get_func_list\n",
            "Checking ...\n",
            "1 explore_modification_int10_fivePartner\n",
            "2 explore_modification_int10_onePartner\n",
            "3 explore_modification_int10_twentyPartner\n",
            "4 explore_modification_int20_fivePartner\n",
            "5 explore_modification_int20_onePartner\n",
            "6 explore_modification_int20_twentyPartner\n",
            "7 lof_clvr_modification_if1_fivePartner_MC\n",
            "8 lof_clvr_modification_if1_onePartner_MC\n",
            "9 lof_clvr_modification_if1_twentyPartner_MC\n",
            "10 lof_clvr_modification_if20_fivePartner_MC\n",
            "11 lof_clvr_modification_if20_onePartner_MC\n",
            "12 lof_clvr_modification_if20_twentyPartner_MC\n",
            "13 lof_clvr_suppression_if1_fs_fivePartner\n",
            "14 lof_clvr_suppression_if1_fs_onePartner\n",
            "15 lof_clvr_suppression_if1_fs_twentyPartner\n",
            "16 lof_clvr_suppression_if20_fs_fivePartner\n",
            "17 lof_clvr_suppression_if20_fs_fivePartner_manyRuns\n",
            "18 lof_clvr_suppression_if20_fs_onePartner\n",
            "19 lof_clvr_suppression_if20_fs_onePartner_manyRuns\n",
            "20 lof_clvr_suppression_if20_fs_twentyPartner\n",
            "21 lof_clvr_suppression_if20_fs_twentyPartner_manyRuns\n",
            "22 rd1_modification_fivePartner\n",
            "23 rd1_modification_onePartner\n",
            "24 rd1_modification_twentyPartner\n",
            "25 rd1_suppression_fs_fivePartner\n",
            "26 rd1_suppression_fs_fivePartner_manyRuns\n",
            "27 rd1_suppression_fs_onePartner\n",
            "28 rd1_suppression_fs_onePartner_manyRuns\n",
            "29 rd1_suppression_fs_twentyPartner\n",
            "30 rd1_suppression_fs_twentyPartner_manyRuns\n",
            "31 resistant_modification_int10_fivePartner_haploid_fc\n",
            "32 resistant_modification_int10_onePartner_haploid_fc\n",
            "33 resistant_modification_int10_twentyPartner_haploid_fc\n",
            "34 resistant_modification_int20_fivePartner_haploid_fc\n",
            "35 resistant_modification_int20_onePartner_haploid_fc\n",
            "36 resistant_modification_int20_twentyPartner_haploid_fc\n",
            "37 resistant_modification_int2_fivePartner_haploid_fc\n",
            "38 resistant_modification_int2_onePartner_haploid_fc\n",
            "39 resistant_modification_int2_twentyPartner_haploid_fc\n",
            "40 resistant_suppression_int_o1_femalesterile_onePartner\n",
            "41 sterile_females_intro10_fivePartner\n",
            "42 sterile_females_intro10_onePartner\n",
            "43 sterile_females_intro10_twentyPartner\n",
            "44 sterile_females_intro20_fivePartner\n",
            "45 sterile_females_intro20_onePartner\n",
            "46 sterile_females_intro20_twentyPartner\n",
            "47 sterile_males_intro10_fivePartner\n",
            "48 sterile_males_intro10_onePartner\n",
            "49 sterile_males_intro10_twentyPartner\n",
            "50 sterile_males_intro20_fivePartner\n",
            "51 sterile_males_intro20_onePartner\n",
            "52 sterile_males_intro20_twentyPartner\n"
          ]
        }
      ]
    },
    {
      "cell_type": "markdown",
      "source": [
        "One function not listed here is demo_function: demo_function. We'll check its docstring now, to see what it does"
      ],
      "metadata": {
        "id": "wWiCbD14m0kJ"
      }
    },
    {
      "cell_type": "code",
      "source": [
        "import inspect\n",
        "from Simulation import demo_function\n",
        "print(inspect.getdoc(demo_function))"
      ],
      "metadata": {
        "id": "HGLDN54inKmw",
        "colab": {
          "base_uri": "https://localhost:8080/"
        },
        "outputId": "bba7002d-7f15-490b-fee9-3264305ba78c"
      },
      "execution_count": 4,
      "outputs": [
        {
          "output_type": "stream",
          "name": "stdout",
          "text": [
            "runs a super small (and therefore very fast) simulation for the demo \n"
          ]
        }
      ]
    },
    {
      "cell_type": "markdown",
      "source": [
        "To run this function, we return to the commandline"
      ],
      "metadata": {
        "id": "mQ5iGWqKneSQ"
      }
    },
    {
      "cell_type": "code",
      "source": [
        "!python Simulation.py demo_function"
      ],
      "metadata": {
        "id": "4OvknaOknhJm",
        "colab": {
          "base_uri": "https://localhost:8080/"
        },
        "outputId": "c2239e7a-7ba6-4df7-9a0e-1d6fa0d203d7"
      },
      "execution_count": null,
      "outputs": [
        {
          "output_type": "stream",
          "name": "stdout",
          "text": [
            "executing function demo_function\n",
            "arabidopsis_data/demo_adults.csv\n",
            "100% 50/50 [00:13<00:00,  3.75it/s]\n",
            "time taken on run 1: 13.357749462127686\n",
            "100% 50/50 [00:13<00:00,  3.77it/s]\n",
            "time taken on run 2: 13.26305627822876\n",
            "100% 50/50 [00:13<00:00,  3.77it/s]\n",
            "time taken on run 3: 13.2861807346344\n",
            "appended mc_prob_0_FC_0 to file demo\n",
            "arabidopsis_data/demo_adults.csv\n",
            "100% 50/50 [00:11<00:00,  4.39it/s]\n",
            "time taken on run 1: 11.407731056213379\n",
            "100% 50/50 [00:11<00:00,  4.47it/s]\n",
            "time taken on run 2: 11.210707664489746\n",
            "100% 50/50 [00:11<00:00,  4.34it/s]\n",
            "time taken on run 3: 11.532227754592896\n",
            "appended mc_prob_0_FC_0.1 to file demo\n",
            "arabidopsis_data/demo_adults.csv\n",
            "100% 50/50 [00:13<00:00,  3.77it/s]\n",
            "time taken on run 1: 13.281348466873169\n",
            "100% 50/50 [00:13<00:00,  3.80it/s]\n",
            "time taken on run 2: 13.180469989776611\n",
            "100% 50/50 [00:14<00:00,  3.43it/s]\n",
            "time taken on run 3: 14.601422548294067\n",
            "appended mc_prob_0.3_FC_0 to file demo\n",
            "arabidopsis_data/demo_adults.csv\n",
            "100% 50/50 [00:11<00:00,  4.36it/s]\n",
            "time taken on run 1: 11.476353645324707\n",
            "100% 50/50 [00:11<00:00,  4.47it/s]\n",
            "time taken on run 2: 11.216983795166016\n",
            "100% 50/50 [00:11<00:00,  4.26it/s]\n",
            "time taken on run 3: 11.754107475280762\n",
            "appended mc_prob_0.3_FC_0.1 to file demo\n"
          ]
        }
      ]
    },
    {
      "cell_type": "markdown",
      "source": [
        "Awesome! We can see from the output that we ran 3 simulations each of a couple different scenarios, including \"mc_prob_0_FC_0\", \"mc_prob_0_FC_0.1\", \"mc_prob_0.3_FC_0\", and \"mc_prob_0.3_FC_0.1\". Let's see what files we got out: let's check the arabidopsis_data folder"
      ],
      "metadata": {
        "id": "8BklK74kRYRU"
      }
    },
    {
      "cell_type": "code",
      "source": [
        "!ls arabidopsis_data"
      ],
      "metadata": {
        "colab": {
          "base_uri": "https://localhost:8080/"
        },
        "id": "8O6RdL1-RtLJ",
        "outputId": "4da47ecd-58d5-4093-ef3f-63e83d78c31b"
      },
      "execution_count": null,
      "outputs": [
        {
          "output_type": "stream",
          "name": "stdout",
          "text": [
            "demo_adults.csv  demo_allele.csv  demo_total.csv\n"
          ]
        }
      ]
    },
    {
      "cell_type": "markdown",
      "source": [
        "We now have three folders: adults, allele, and total. We'll look inside demo_total, at the first 10 linesas the header shoaa   the hthe head sdfsdf  slk"
      ],
      "metadata": {
        "id": "mxjoREfVRx2E"
      }
    },
    {
      "cell_type": "code",
      "source": [
        "!head -10 arabidopsis_data/demo_total.csv"
      ],
      "metadata": {
        "colab": {
          "base_uri": "https://localhost:8080/"
        },
        "id": "gyONLbxOR3S3",
        "outputId": "721785dc-1c49-4a81-9729-95636df7b8f6"
      },
      "execution_count": null,
      "outputs": [
        {
          "output_type": "stream",
          "name": "stdout",
          "text": [
            ",Count,Generation,Sex,Run\n",
            "0,500,0,Female,mc_prob_0_FC_0_1\n",
            "1,450,1,Female,mc_prob_0_FC_0_1\n",
            "2,450,2,Female,mc_prob_0_FC_0_1\n",
            "3,437,3,Female,mc_prob_0_FC_0_1\n",
            "4,395,4,Female,mc_prob_0_FC_0_1\n",
            "5,366,5,Female,mc_prob_0_FC_0_1\n",
            "6,348,6,Female,mc_prob_0_FC_0_1\n",
            "7,358,7,Female,mc_prob_0_FC_0_1\n",
            "8,333,8,Female,mc_prob_0_FC_0_1\n"
          ]
        }
      ]
    },
    {
      "cell_type": "markdown",
      "source": [
        "Each line is a single instance of something that happened: in _total.csv, the header goes count (the number of individuals), Generation (which generation of the simulation it is), Sex (Males or Females), and Run. The Run label is something we use to store important information. How run labels are generated and why is covered in the next section.\n",
        "\n",
        "You can see that _adults.csv is the same as total, but also breaks up information by genotype. _allele.csv breaks up information by allele. For more info on which alleles stand for what, check out the readme!"
      ],
      "metadata": {
        "id": "fg7WMhROSHxg"
      }
    },
    {
      "cell_type": "markdown",
      "source": [
        "## How to write your own functions\n",
        "\n",
        "to get a better understanding of what these functions are doing, let's take a closer look at demo_function"
      ],
      "metadata": {
        "id": "edTffpgPKjHU"
      }
    },
    {
      "cell_type": "code",
      "source": [
        "def demo_function():\n",
        "    \"\"\" runs a super small (and therefore very fast) simulation for the demo \"\"\"\n",
        "    num_partners = 1\n",
        "    intro = [[1, 0, 0.1]] # sex, genotype, frequency\n",
        "    # genotype 0 = cc vv, genotype 23 = ra, ww (wt resistant)\n",
        "    s_c = []\n",
        "    f_c = []\n",
        "\n",
        "    file_name = \"demo\"\n",
        "\n",
        "    num_reps = 3\n",
        "    pop_max = 100\n",
        "    num_gens = 5\n",
        "\n",
        "    for maternal_carryover in [0, 0.3]:\n",
        "        for clvr_cost in [0, 0.1]:\n",
        "            # fitness costs take the form [sex, required alleles, fitness cost, rescueAlleles]\n",
        "            hf_c = [[0, ['C', 'W'], 1.0, [['V']]],\n",
        "                    [1, ['C', 'W'], 1.0, []],\n",
        "                    [0, ['V'], clvr_cost, []], # haploid fitness cost\n",
        "                    [1, ['V'], clvr_cost, []]] # haploid fitness cost\n",
        "\n",
        "            run_label = f'mc_prob_{maternal_carryover}_FC_{clvr_cost}'\n",
        "            run_stochastic_sim(ALLELES, num_reps, num_gens, intro,\n",
        "                            f_c, hf_c, s_c, num_partners,\n",
        "                            mut_flag= \"NA\", run_label= run_label,\n",
        "                            file_name= file_name, k=pop_max, mc_prob=maternal_carryover)\n",
        "    return None"
      ],
      "metadata": {
        "id": "JUd9YcTtKw0p"
      },
      "execution_count": null,
      "outputs": []
    },
    {
      "cell_type": "markdown",
      "source": [
        "demo_function does thee important things. First, it defines basic parameters: these include the number of partners being mated, the introduction (what sex, what genotype, and what frequency), things like sterility cost (none), fertility cost (none), the file name to store our information to, and other presets such as the number of simulations to run (num_reps), maximum population size, and the number of generations.\n",
        "\n",
        "All of these presets get passed into the function run_stochastic_sim. As part of this function, we are also varying two key elements we are interested: the amount of maternal carryover, and the haploid fitnesss cost associated with ClvR. To keep track of which simulation is which, we use the **run_label**. Here, it takes the form f'mc_prob_{maternal_carryover}_FC_{clvr_cost}'. This run label will be on every line in the output files, to keep track of exactly what is going into our data\n",
        "\n",
        "Let's take a look at the start of run_stochastic_sim:"
      ],
      "metadata": {
        "id": "GG9pdirhK4ml"
      }
    },
    {
      "cell_type": "code",
      "source": [
        "def run_stochastic_sim_EXAMPLE(alleles, num_reps,\n",
        "                   num_gens, intro, f_c, hf_c, s_c, num_partners,\n",
        "                   mut_flag = \"NA\", FC_flag = None,\n",
        "                   r_d = R_D, cleavage_prob = CLEAVAGE_PROB, add_intro = BASIC_ADD_INTRO,\n",
        "                   run_label = \"test\", k = POP_MAX, n_o = NUM_OVULES, g_f = GROWTH_FACTOR,\n",
        "                   mc_prob = BASIC_MC_PROB, file_name = BASIC_FILE_NAME):\n",
        "  return none"
      ],
      "metadata": {
        "id": "NAu5fb6OLNQy"
      },
      "execution_count": null,
      "outputs": []
    },
    {
      "cell_type": "markdown",
      "source": [
        "The main function for running the simulation, run_stochastic_sim, requires the following:\n",
        "- **alleles:** What alleles are going to be used (a list of loci, with alleles at each loci. For example: [['C', 'A'], ['V', 'W']])\n",
        "  - of note: the wildtype alleles must ALWAYS be placed last. For this example, a wildtype homozygous individual would have genotype [['A', 'A'], ['W', 'W']]\n",
        "- **num_reps:** The number of simulations to run (an int)\n",
        "- **num_gens:** The number of generations to run the simulation for (an int)\n",
        "- **intro:** An introduction: Which genotypes are going to be introduced at the start?\n",
        "  - a list of lists, where each sub-list takes the form [sex to introduce (0 = females, 1 = males), which genotype to introduce (an int, more on this below), and the 'frequency' (a float, a percentage of carrying capacity) ]\n",
        "- **f_c:** a set of fitness costs on diploids\n",
        "  - a list of lists, each sublist takes the form [sex (0 = females, 1 = males), list of alleles required for fitness cost, fitness cost, list of alleles that rescue]\n",
        "- **hf_c:** a set of fitness costs for haploids\n",
        "  - a list of lists, each sublist takes the form [sex, list of alleles required for fitness cost, fitness cost, list of PARENT alleles that rescue via carryover]\n",
        "- **s_c:** a set of sterility costs\n",
        "  - a list of lists, each sub-list takes the form [sex, list of alleles required, sterility cost]\n",
        "- **num_partners:** the number of males to be mated to each female\n",
        "\n",
        "The trickiest part is determining what integer corresponds to which genotypes. We provide, as part of Simulation.py, the function \"get_int_from_gene\" shown below. The method of generating genotypes from the alleles given should always result in the same order, as genotypes are generated by vector multiply the list of alleles."
      ],
      "metadata": {
        "id": "YSk8rN0eMkKp"
      }
    },
    {
      "cell_type": "code",
      "source": [
        "print(inspect.getdoc(get_int_from_gene))\n",
        "\n",
        "alleles = [['C', 'A'], ['V', 'W']]\n",
        "print(get_int_from_gene(alleles, [['C', 'C'], ['V', 'V']]))\n",
        "\n",
        "print(get_int_from_gene(alleles, [['A', 'A'], ['V', 'W']]))"
      ],
      "metadata": {
        "colab": {
          "base_uri": "https://localhost:8080/",
          "height": 211
        },
        "id": "hRtZlw7S8Uhy",
        "outputId": "b778e6da-d229-4ee3-80e6-dd259c8a88bf"
      },
      "execution_count": 5,
      "outputs": [
        {
          "output_type": "error",
          "ename": "NameError",
          "evalue": "name 'get_int_from_gene' is not defined",
          "traceback": [
            "\u001b[0;31m---------------------------------------------------------------------------\u001b[0m",
            "\u001b[0;31mNameError\u001b[0m                                 Traceback (most recent call last)",
            "\u001b[0;32m<ipython-input-5-a6123bc62c89>\u001b[0m in \u001b[0;36m<cell line: 1>\u001b[0;34m()\u001b[0m\n\u001b[0;32m----> 1\u001b[0;31m \u001b[0mprint\u001b[0m\u001b[0;34m(\u001b[0m\u001b[0minspect\u001b[0m\u001b[0;34m.\u001b[0m\u001b[0mgetdoc\u001b[0m\u001b[0;34m(\u001b[0m\u001b[0mget_int_from_gene\u001b[0m\u001b[0;34m)\u001b[0m\u001b[0;34m)\u001b[0m\u001b[0;34m\u001b[0m\u001b[0;34m\u001b[0m\u001b[0m\n\u001b[0m\u001b[1;32m      2\u001b[0m \u001b[0;34m\u001b[0m\u001b[0m\n\u001b[1;32m      3\u001b[0m \u001b[0malleles\u001b[0m \u001b[0;34m=\u001b[0m \u001b[0;34m[\u001b[0m\u001b[0;34m[\u001b[0m\u001b[0;34m'C'\u001b[0m\u001b[0;34m,\u001b[0m \u001b[0;34m'A'\u001b[0m\u001b[0;34m]\u001b[0m\u001b[0;34m,\u001b[0m \u001b[0;34m[\u001b[0m\u001b[0;34m'V'\u001b[0m\u001b[0;34m,\u001b[0m \u001b[0;34m'W'\u001b[0m\u001b[0;34m]\u001b[0m\u001b[0;34m]\u001b[0m\u001b[0;34m\u001b[0m\u001b[0;34m\u001b[0m\u001b[0m\n\u001b[1;32m      4\u001b[0m \u001b[0mprint\u001b[0m\u001b[0;34m(\u001b[0m\u001b[0mget_int_from_gene\u001b[0m\u001b[0;34m(\u001b[0m\u001b[0malleles\u001b[0m\u001b[0;34m,\u001b[0m \u001b[0;34m[\u001b[0m\u001b[0;34m[\u001b[0m\u001b[0;34m'C'\u001b[0m\u001b[0;34m,\u001b[0m \u001b[0;34m'C'\u001b[0m\u001b[0;34m]\u001b[0m\u001b[0;34m,\u001b[0m \u001b[0;34m[\u001b[0m\u001b[0;34m'V'\u001b[0m\u001b[0;34m,\u001b[0m \u001b[0;34m'V'\u001b[0m\u001b[0;34m]\u001b[0m\u001b[0;34m]\u001b[0m\u001b[0;34m)\u001b[0m\u001b[0;34m)\u001b[0m\u001b[0;34m\u001b[0m\u001b[0;34m\u001b[0m\u001b[0m\n\u001b[1;32m      5\u001b[0m \u001b[0;34m\u001b[0m\u001b[0m\n",
            "\u001b[0;31mNameError\u001b[0m: name 'get_int_from_gene' is not defined"
          ]
        }
      ]
    },
    {
      "cell_type": "markdown",
      "source": [
        "Other Simulation variables are optional, or already pre-set to certain values. These include:\n",
        "- **mut_flag = \"NA\":** if this is set to \"*recomb_dist_1*\", then recombination distances set by **r_d** will be considered. This is not normally used, to reduce run-time\n",
        "- **FC_flag = None:** fitness costs are, by default, dominant. FC_flag can be set to \"*additive*\" to use additive fitness costs, instead.\n",
        "- **r_d = R_D:** a list of recombination distances, preset to [[50],[50]]\n",
        "  - takes the form [list of recombination distances for females], [list of recombination distances for males], where 50 is maximal distance (equal chance of inheritance), and 0 is always co-inherited.\n",
        "- **cleavage_prob = CLEAVAGE_PROB:** The efficiency of our ClvR, pre-set to 0.95\n",
        "- **add_intro = BASIC_ADD_INTRO:** can be used to have additional introductions after the first generation / repeated releases.\n",
        "- **run_label = \"test\":** The Run Label! While optional, using this to keep track of your data is *highly recommended*\n",
        "- **k = POP_MAX:** an integer for carrying capacity, pre-set to 10000\n",
        "- **n_o = NUM_OVULES:** an integer for the number of ovules each female produces, pre-set to 30\n",
        "- **g_f = GROWTH_FACTOR:** an integer relating to our density-dependent growth factor. This is a multiplier for survival at low population densities, and is pre-set to 6\n",
        "- **mc_prob = BASIC_MC_PROB:** a float for probability that maternal carryover occurs. pre-set to 0, can range from 0 to 1.0\n",
        "- **file_name = BASIC_FILE_NAME:** while preset to \"blankTest\" it is *highly recommended* that this be changed to a file_name you desire"
      ],
      "metadata": {
        "id": "Wik3N3Me9w2S"
      }
    }
  ]
}