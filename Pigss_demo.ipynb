{
  "nbformat": 4,
  "nbformat_minor": 0,
  "metadata": {
    "colab": {
      "provenance": [],
      "authorship_tag": "ABX9TyOQTMga+ApX1vTtx2zDfepI",
      "include_colab_link": true
    },
    "kernelspec": {
      "name": "python3",
      "display_name": "Python 3"
    },
    "language_info": {
      "name": "python"
    }
  },
  "cells": [
    {
      "cell_type": "markdown",
      "metadata": {
        "id": "view-in-github",
        "colab_type": "text"
      },
      "source": [
        "<a href=\"https://colab.research.google.com/github/MicycleJ/Pigss/blob/main/Pigss_demo.ipynb\" target=\"_parent\"><img src=\"https://colab.research.google.com/assets/colab-badge.svg\" alt=\"Open In Colab\"/></a>"
      ]
    },
    {
      "cell_type": "markdown",
      "source": [
        "#Using Piggs: A tutorial !\n",
        "---\n",
        "In this tutorial you will learn how to use the Piggs Simulation, what files get generated, and how to analyze them. First, we'll clone the project and move into the directory"
      ],
      "metadata": {
        "id": "p0LsUYhXJfao"
      }
    },
    {
      "cell_type": "code",
      "source": [
        "!git clone https://github.com/MicycleJ/Pigss\n",
        "%cd Pigss"
      ],
      "metadata": {
        "colab": {
          "base_uri": "https://localhost:8080/"
        },
        "id": "8dzl0q9W6auW",
        "outputId": "014002a1-f1eb-41a3-dbd4-5171f642b96d"
      },
      "execution_count": 1,
      "outputs": [
        {
          "output_type": "stream",
          "name": "stdout",
          "text": [
            "Cloning into 'Pigss'...\n",
            "remote: Enumerating objects: 201, done.\u001b[K\n",
            "remote: Counting objects: 100% (201/201), done.\u001b[K\n",
            "remote: Compressing objects: 100% (90/90), done.\u001b[K\n",
            "remote: Total 201 (delta 134), reused 167 (delta 108), pack-reused 0\u001b[K\n",
            "Receiving objects: 100% (201/201), 18.34 MiB | 27.94 MiB/s, done.\n",
            "Resolving deltas: 100% (134/134), done.\n",
            "Updating files: 100% (71/71), done.\n",
            "/content/Pigss\n"
          ]
        }
      ]
    },
    {
      "cell_type": "markdown",
      "source": [
        "We also have to create a folder for our data to go into: we call this folder \"arabidopsis_data\""
      ],
      "metadata": {
        "id": "EdRuBdjsQ7bf"
      }
    },
    {
      "cell_type": "code",
      "source": [
        "!mkdir arabidopsis_data\n",
        "!ls"
      ],
      "metadata": {
        "colab": {
          "base_uri": "https://localhost:8080/"
        },
        "id": "1JYmTWqiRAvW",
        "outputId": "54491801-6f0f-4953-817d-7b2d32fb70e9"
      },
      "execution_count": 6,
      "outputs": [
        {
          "output_type": "stream",
          "name": "stdout",
          "text": [
            "mkdir: cannot create directory ‘arabidopsis_data’: File exists\n",
            "allele_mapping.png\t  Simulation.py\n",
            "arabidopsis_data\t  Simulation_suppressors_fast_copy.py\n",
            "data_visualization.Rmd\t  Simulation_suppressors_fast.py\n",
            "final_data\t\t  Simulation_suppressors_fast_small.py\n",
            "flowchart_3.png\t\t  Simulation_suppressors.py\n",
            "PlantClasses.py\t\t  SuppressorMutationClasses_fast_copy.py\n",
            "__pycache__\t\t  SuppressorMutationClasses_fast.py\n",
            "README.md\t\t  SuppressorMutationClasses.py\n",
            "Simulation_fast_small.py  Untitled0.ipynb\n",
            "Simulation_old.py\n"
          ]
        }
      ]
    },
    {
      "cell_type": "markdown",
      "source": [
        "## How to use the pre-made functions\n",
        "\n",
        "There are many functions we can use from the commandline. Let's check what functions are available"
      ],
      "metadata": {
        "id": "gquAMrFRmXpU"
      }
    },
    {
      "cell_type": "code",
      "source": [
        "!python Simulation.py get_func_list"
      ],
      "metadata": {
        "colab": {
          "base_uri": "https://localhost:8080/"
        },
        "id": "VlNUjXX47iuY",
        "outputId": "7da58e56-70c0-4377-8576-a8534495426e"
      },
      "execution_count": 2,
      "outputs": [
        {
          "output_type": "stream",
          "name": "stdout",
          "text": [
            "executing function get_func_list\n",
            "Checking ...\n",
            "1 explore_modification_int10_fivePartner\n",
            "2 explore_modification_int10_onePartner\n",
            "3 explore_modification_int10_twentyPartner\n",
            "4 explore_modification_int20_fivePartner\n",
            "5 explore_modification_int20_onePartner\n",
            "6 explore_modification_int20_twentyPartner\n",
            "7 lof_clvr_modification_if1_fivePartner_MC\n",
            "8 lof_clvr_modification_if1_onePartner_MC\n",
            "9 lof_clvr_modification_if1_twentyPartner_MC\n",
            "10 lof_clvr_modification_if20_fivePartner_MC\n",
            "11 lof_clvr_modification_if20_onePartner_MC\n",
            "12 lof_clvr_modification_if20_twentyPartner_MC\n",
            "13 lof_clvr_suppression_if1_fs_fivePartner\n",
            "14 lof_clvr_suppression_if1_fs_onePartner\n",
            "15 lof_clvr_suppression_if1_fs_twentyPartner\n",
            "16 lof_clvr_suppression_if20_fs_fivePartner\n",
            "17 lof_clvr_suppression_if20_fs_fivePartner_manyRuns\n",
            "18 lof_clvr_suppression_if20_fs_onePartner\n",
            "19 lof_clvr_suppression_if20_fs_onePartner_manyRuns\n",
            "20 lof_clvr_suppression_if20_fs_twentyPartner\n",
            "21 lof_clvr_suppression_if20_fs_twentyPartner_manyRuns\n",
            "22 rd1_modification_fivePartner\n",
            "23 rd1_modification_onePartner\n",
            "24 rd1_modification_twentyPartner\n",
            "25 rd1_suppression_fs_fivePartner\n",
            "26 rd1_suppression_fs_fivePartner_manyRuns\n",
            "27 rd1_suppression_fs_onePartner\n",
            "28 rd1_suppression_fs_onePartner_manyRuns\n",
            "29 rd1_suppression_fs_twentyPartner\n",
            "30 rd1_suppression_fs_twentyPartner_manyRuns\n",
            "31 resistant_modification_int10_fivePartner_haploid_fc\n",
            "32 resistant_modification_int10_onePartner_haploid_fc\n",
            "33 resistant_modification_int10_twentyPartner_haploid_fc\n",
            "34 resistant_modification_int20_fivePartner_haploid_fc\n",
            "35 resistant_modification_int20_onePartner_haploid_fc\n",
            "36 resistant_modification_int20_twentyPartner_haploid_fc\n",
            "37 resistant_modification_int2_fivePartner_haploid_fc\n",
            "38 resistant_modification_int2_onePartner_haploid_fc\n",
            "39 resistant_modification_int2_twentyPartner_haploid_fc\n",
            "40 resistant_suppression_int_o1_femalesterile_onePartner\n",
            "41 sterile_females_intro10_fivePartner\n",
            "42 sterile_females_intro10_onePartner\n",
            "43 sterile_females_intro10_twentyPartner\n",
            "44 sterile_females_intro20_fivePartner\n",
            "45 sterile_females_intro20_onePartner\n",
            "46 sterile_females_intro20_twentyPartner\n",
            "47 sterile_males_intro10_fivePartner\n",
            "48 sterile_males_intro10_onePartner\n",
            "49 sterile_males_intro10_twentyPartner\n",
            "50 sterile_males_intro20_fivePartner\n",
            "51 sterile_males_intro20_onePartner\n",
            "52 sterile_males_intro20_twentyPartner\n"
          ]
        }
      ]
    },
    {
      "cell_type": "markdown",
      "source": [
        "One function not listed here is demo_function: demo_function. We'll check its docstring now, to see what it does"
      ],
      "metadata": {
        "id": "wWiCbD14m0kJ"
      }
    },
    {
      "cell_type": "code",
      "source": [
        "import inspect\n",
        "from Simulation import demo_function\n",
        "print(inspect.getdoc(demo_function))"
      ],
      "metadata": {
        "id": "HGLDN54inKmw",
        "colab": {
          "base_uri": "https://localhost:8080/"
        },
        "outputId": "e9b0711e-7069-4caf-d18d-d3ecc8ae91cc"
      },
      "execution_count": 3,
      "outputs": [
        {
          "output_type": "stream",
          "name": "stdout",
          "text": [
            "runs a super small (and therefore very fast) simulation for the demo \n"
          ]
        }
      ]
    },
    {
      "cell_type": "markdown",
      "source": [
        "To run this function, we return to the commandline"
      ],
      "metadata": {
        "id": "mQ5iGWqKneSQ"
      }
    },
    {
      "cell_type": "code",
      "source": [
        "!python Simulation.py demo_function"
      ],
      "metadata": {
        "id": "4OvknaOknhJm",
        "colab": {
          "base_uri": "https://localhost:8080/"
        },
        "outputId": "81b64ee5-e6dd-4866-e361-da5bca2d0952"
      },
      "execution_count": 7,
      "outputs": [
        {
          "output_type": "stream",
          "name": "stdout",
          "text": [
            "executing function demo_function\n",
            "arabidopsis_data/demo_adults.csv\n",
            "100% 50/50 [00:08<00:00,  5.98it/s]\n",
            "time taken on run 1: 8.37587285041809\n",
            "100% 50/50 [00:08<00:00,  5.83it/s]\n",
            "time taken on run 2: 8.59063982963562\n",
            "100% 50/50 [00:07<00:00,  6.39it/s]\n",
            "time taken on run 3: 7.840309143066406\n",
            "appended mc_prob_0_FC_0 to file demo\n",
            "arabidopsis_data/demo_adults.csv\n",
            "100% 50/50 [00:07<00:00,  6.92it/s]\n",
            "time taken on run 1: 7.236638069152832\n",
            "100% 50/50 [00:07<00:00,  7.02it/s]\n",
            "time taken on run 2: 7.13080096244812\n",
            "100% 50/50 [00:06<00:00,  7.47it/s]\n",
            "time taken on run 3: 6.70760178565979\n",
            "appended mc_prob_0_FC_0.1 to file demo\n",
            "arabidopsis_data/demo_adults.csv\n",
            "100% 50/50 [00:08<00:00,  5.92it/s]\n",
            "time taken on run 1: 8.46115756034851\n",
            "100% 50/50 [00:08<00:00,  5.93it/s]\n",
            "time taken on run 2: 8.44404149055481\n",
            "100% 50/50 [00:08<00:00,  5.95it/s]\n",
            "time taken on run 3: 8.41105341911316\n",
            "appended mc_prob_0.3_FC_0 to file demo\n",
            "arabidopsis_data/demo_adults.csv\n",
            "100% 50/50 [00:06<00:00,  7.39it/s]\n",
            "time taken on run 1: 6.77666163444519\n",
            "100% 50/50 [00:07<00:00,  6.80it/s]\n",
            "time taken on run 2: 7.365479230880737\n",
            "100% 50/50 [00:06<00:00,  7.37it/s]\n",
            "time taken on run 3: 6.796719551086426\n",
            "appended mc_prob_0.3_FC_0.1 to file demo\n"
          ]
        }
      ]
    },
    {
      "cell_type": "markdown",
      "source": [
        "Awesome! We can see from the output that we ran 3 simulations each of a couple different scenarios, including \"mc_prob_0_FC_0\", \"mc_prob_0_FC_0.1\", \"mc_prob_0.3_FC_0\", and \"mc_prob_0.3_FC_0.1\". Let's see what files we got out: let's check the arabidopsis_data folder"
      ],
      "metadata": {
        "id": "8BklK74kRYRU"
      }
    },
    {
      "cell_type": "code",
      "source": [
        "!ls arabidopsis_data"
      ],
      "metadata": {
        "colab": {
          "base_uri": "https://localhost:8080/"
        },
        "id": "8O6RdL1-RtLJ",
        "outputId": "62c9b04a-5535-404d-e7d1-82a511ce159b"
      },
      "execution_count": 8,
      "outputs": [
        {
          "output_type": "stream",
          "name": "stdout",
          "text": [
            "demo_adults.csv  demo_allele.csv  demo_total.csv\n"
          ]
        }
      ]
    },
    {
      "cell_type": "markdown",
      "source": [
        "We now have three folders: adults, allele, and total. We'll look inside demo_total, at the first 10 linesas the header shoaa   the h"
      ],
      "metadata": {
        "id": "mxjoREfVRx2E"
      }
    },
    {
      "cell_type": "code",
      "source": [
        "!head -10 arabidopsis_data/demo_total.csv"
      ],
      "metadata": {
        "colab": {
          "base_uri": "https://localhost:8080/"
        },
        "id": "gyONLbxOR3S3",
        "outputId": "4b6313ce-e435-469a-98db-082079ae627e"
      },
      "execution_count": 1,
      "outputs": [
        {
          "output_type": "stream",
          "name": "stdout",
          "text": [
            "head: cannot open 'arabidopsis_data/demo_total.csv' for reading: No such file or directory\n"
          ]
        }
      ]
    },
    {
      "cell_type": "markdown",
      "source": [
        "Each line is a single instance of something that happened: in _total.csv,"
      ],
      "metadata": {
        "id": "fg7WMhROSHxg"
      }
    }
  ]
}