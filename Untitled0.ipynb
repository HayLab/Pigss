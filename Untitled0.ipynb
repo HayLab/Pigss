{
  "nbformat": 4,
  "nbformat_minor": 0,
  "metadata": {
    "colab": {
      "provenance": [],
      "authorship_tag": "ABX9TyPjgEcHJSJXar1VlAYF6LAt",
      "include_colab_link": true
    },
    "kernelspec": {
      "name": "python3",
      "display_name": "Python 3"
    },
    "language_info": {
      "name": "python"
    }
  },
  "cells": [
    {
      "cell_type": "markdown",
      "metadata": {
        "id": "view-in-github",
        "colab_type": "text"
      },
      "source": [
        "<a href=\"https://colab.research.google.com/github/MicycleJ/Pigss/blob/main/Untitled0.ipynb\" target=\"_parent\"><img src=\"https://colab.research.google.com/assets/colab-badge.svg\" alt=\"Open In Colab\"/></a>"
      ]
    },
    {
      "cell_type": "markdown",
      "source": [
        "#Using Piggs: A tutorial !\n",
        "---\n",
        "In this tutorial you will learn how to use the Piggs Simulation, what files get generated, and how to analyze them"
      ],
      "metadata": {
        "id": "p0LsUYhXJfao"
      }
    },
    {
      "cell_type": "code",
      "execution_count": 4,
      "metadata": {
        "id": "Mu3OedpiRG5I",
        "colab": {
          "base_uri": "https://localhost:8080/"
        },
        "outputId": "e69ab33b-b51d-432e-8ec5-ebef76abee66"
      },
      "outputs": [
        {
          "output_type": "stream",
          "name": "stdout",
          "text": [
            "sample_data\n",
            "... moving to sample_data ...\n",
            "anscombe.json\t\t     california_housing_train.csv  mnist_train_small.csv\n",
            "california_housing_test.csv  mnist_test.csv\t\t   README.md\n"
          ]
        },
        {
          "output_type": "execute_result",
          "data": {
            "text/plain": []
          },
          "metadata": {},
          "execution_count": 4
        }
      ],
      "source": [
        "%%shell\n",
        "\n",
        "ls\n",
        "cd sample_data\n",
        "echo  ... moving to sample_data ...\n",
        "ls"
      ]
    }
  ]
}